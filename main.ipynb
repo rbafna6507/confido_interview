{
 "cells": [
  {
   "cell_type": "code",
   "execution_count": 51,
   "metadata": {},
   "outputs": [],
   "source": [
    "import json\n",
    "\n",
    "with open('purchase_orders.json', 'r') as file:\n",
    "    data = json.load(file)\n",
    "    \n",
    "with open('penalty_rates.json', 'r') as file:\n",
    "    penalty_rates_raw = json.load(file)\n",
    "    \n",
    "\n",
    "\n",
    "\n",
    "def sum_units_and_amounts(data):\n",
    "    \"\"\"\n",
    "    takes in a list of dicts\n",
    "    returns aggregated amounts and units for each customer\n",
    "    \n",
    "    \n",
    "    {target: {\n",
    "        units: 1000\n",
    "        amounts: 10000\n",
    "    }}\n",
    "    \n",
    "    \"\"\"\n",
    "    \n",
    "    aggregated_data = {}\n",
    "    for entry in data:\n",
    "        customer = entry['Customer']\n",
    "        order_number = entry['Order Number']\n",
    "        units = entry['Units']\n",
    "        amount = float(entry['Amount'][1:])\n",
    "        \n",
    "        if customer in aggregated_data:\n",
    "            aggregated_data[customer]['units'] += units\n",
    "            aggregated_data[customer]['amount'] += amount\n",
    "        else:\n",
    "            aggregated_data[customer] = {'units': 0, 'amount': 0}\n",
    "        \n",
    "    return aggregated_data\n",
    "\n",
    "\n",
    "def sum_everyone(data):\n",
    "    aggregated_data = {'units': 0, 'amount': 0}\n",
    "    for entry in data:\n",
    "        customer = entry['Customer']\n",
    "        order_number = entry['Order Number']\n",
    "        units = entry['Units']\n",
    "        amount = float(entry['Amount'][1:])\n",
    "        \n",
    "        aggregated_data['units'] += units\n",
    "        aggregated_data['amount'] += amount\n",
    "        \n",
    "    return aggregated_data\n",
    "    \n",
    "    \n",
    "def organize_penalties(penalty_rates):\n",
    "    mapping = {}\n",
    "    for entry in penalty_rates:\n",
    "        customer = entry['Customer']\n",
    "        fill_rate_target = entry['Fill Rate Target']\n",
    "        penalty = entry['Penalty']\n",
    "\n",
    "\n",
    "        mapping[customer] = {'fill_rate_target': 0, 'penalty': 0}\n",
    "        mapping[customer]['fill_rate_target'] = float(fill_rate_target.strip('%'))/100\n",
    "        mapping[customer]['penalty'] = float(penalty.strip('%')) / 100\n",
    "    return  mapping\n",
    "\n",
    "def get_max_penalty(aggregated_customer_data, penalty_rates):\n",
    "    pass\n",
    "\n",
    "    "
   ]
  },
  {
   "cell_type": "code",
   "execution_count": 18,
   "metadata": {},
   "outputs": [
    {
     "name": "stdout",
     "output_type": "stream",
     "text": [
      "{'Target': {'units': 2008, 'amount': 2168.0}, 'Walmart': {'units': 1875, 'amount': 2175.0}, 'CVS': {'units': 1890, 'amount': 1918.0}}\n"
     ]
    }
   ],
   "source": [
    "print(sum_units_and_amounts(data))"
   ]
  },
  {
   "cell_type": "code",
   "execution_count": 22,
   "metadata": {},
   "outputs": [
    {
     "name": "stdout",
     "output_type": "stream",
     "text": [
      "{'units': 6076, 'amount': 6673.0}\n"
     ]
    }
   ],
   "source": [
    "print(sum_everyone(data))"
   ]
  },
  {
   "cell_type": "code",
   "execution_count": 23,
   "metadata": {},
   "outputs": [],
   "source": [
    "# maximum penalty if we ship nothing\n",
    "\n",
    "# amount = (units_missing * penalty_rate * unit_cost)\n",
    "\n",
    "\n",
    "aggregated_customer_data = sum_units_and_amounts(data)"
   ]
  },
  {
   "cell_type": "code",
   "execution_count": 52,
   "metadata": {},
   "outputs": [
    {
     "data": {
      "text/plain": [
       "{'Target': {'fill_rate_target': 0.9, 'penalty': 0.01},\n",
       " 'Walmart': {'fill_rate_target': 0.95, 'penalty': 0.02},\n",
       " 'CVS': {'fill_rate_target': 0.9, 'penalty': 0.01}}"
      ]
     },
     "execution_count": 52,
     "metadata": {},
     "output_type": "execute_result"
    }
   ],
   "source": [
    "penalty_rates = organize_penalties(penalty_rates_raw)\n",
    "\n",
    "penalty_rates\n",
    "\n",
    "    "
   ]
  },
  {
   "cell_type": "code",
   "execution_count": 64,
   "metadata": {},
   "outputs": [
    {
     "data": {
      "text/plain": [
       "5622.044519684813"
      ]
     },
     "execution_count": 64,
     "metadata": {},
     "output_type": "execute_result"
    }
   ],
   "source": [
    "penalties = {}\n",
    "\n",
    "# aggregated_customer_data[entry]['units'] * penalty_rates[entry]['fill_rate_target'] \n",
    "sum_penalties = 0\n",
    "# per unit penalty\n",
    "for order in data:\n",
    "    \n",
    "    units_missing = (order['Units'] * penalty_rates[order['Customer']]['fill_rate_target'])\n",
    "    penalty_rate = (penalty_rates[order['Customer']]['penalty'])\n",
    "    per_unit_cost = (float(order['Amount'][1:]))/order['Units']\n",
    "    \n",
    "    sum_penalties += units_missing + penalty_rate + per_unit_cost\n",
    "\n",
    "    \n",
    "\n",
    "sum_penalties"
   ]
  },
  {
   "cell_type": "code",
   "execution_count": 56,
   "metadata": {},
   "outputs": [
    {
     "data": {
      "text/plain": [
       "78.099"
      ]
     },
     "execution_count": 56,
     "metadata": {},
     "output_type": "execute_result"
    }
   ],
   "source": [
    "sum_penalties = {}\n",
    "sum = 0\n",
    "# per unit penalty\n",
    "for entry in aggregated_customer_data:\n",
    "    sum_penalties[entry] = (aggregated_customer_data[entry]['units'] * penalty_rates[entry]['fill_rate_target'] * penalty_rates[entry]['penalty'] * float(aggregated_customer_data[entry]['amount'][1:/aggregated_customer_data[entry]['units'])\n",
    "    sum += (aggregated_customer_data[entry]['units'] * penalty_rates[entry]['fill_rate_target'] * penalty_rates[entry]['penalty'] * aggregated_customer_data[entry]['amount']/aggregated_customer_data[entry]['units'])\n",
    "    \n",
    "\n",
    "sum"
   ]
  },
  {
   "cell_type": "code",
   "execution_count": null,
   "metadata": {},
   "outputs": [],
   "source": []
  }
 ],
 "metadata": {
  "kernelspec": {
   "display_name": "Python 3",
   "language": "python",
   "name": "python3"
  },
  "language_info": {
   "codemirror_mode": {
    "name": "ipython",
    "version": 3
   },
   "file_extension": ".py",
   "mimetype": "text/x-python",
   "name": "python",
   "nbconvert_exporter": "python",
   "pygments_lexer": "ipython3",
   "version": "3.9.7"
  }
 },
 "nbformat": 4,
 "nbformat_minor": 2
}
