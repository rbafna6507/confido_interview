{
 "cells": [
  {
   "cell_type": "markdown",
   "metadata": {},
   "source": [
    "## Part 1\n",
    "\n",
    "Importing Data + Creating helper functions"
   ]
  },
  {
   "cell_type": "code",
   "execution_count": 76,
   "metadata": {},
   "outputs": [],
   "source": [
    "import json\n",
    "\n",
    "with open('purchase_orders.json', 'r') as file:\n",
    "    data = json.load(file)\n",
    "    \n",
    "with open('penalty_rates.json', 'r') as file:\n",
    "    penalty_rates_raw = json.load(file)"
   ]
  },
  {
   "cell_type": "code",
   "execution_count": 77,
   "metadata": {},
   "outputs": [],
   "source": [
    "def sum_units_and_amounts(data):\n",
    "    \"\"\"\n",
    "    takes in a list of dicts\n",
    "    returns aggregated amounts and units for each customer\n",
    "    \n",
    "    \n",
    "    {target: {\n",
    "        units: 1000\n",
    "        amounts: 10000\n",
    "    }}\n",
    "    \n",
    "    \"\"\"\n",
    "    \n",
    "    aggregated_data = {}\n",
    "    for entry in data:\n",
    "        customer = entry['Customer']\n",
    "        order_number = entry['Order Number']\n",
    "        units = entry['Units']\n",
    "        amount = float(entry['Amount'][1:])\n",
    "        \n",
    "        if customer in aggregated_data:\n",
    "            aggregated_data[customer]['units'] += units\n",
    "            aggregated_data[customer]['amount'] += amount\n",
    "        else:\n",
    "            aggregated_data[customer] = {'units': 0, 'amount': 0}\n",
    "        \n",
    "    return aggregated_data\n",
    "\n",
    "\n",
    "def sum_everyone(data):\n",
    "    aggregated_data = {'units': 0, 'amount': 0}\n",
    "    for entry in data:\n",
    "        customer = entry['Customer']\n",
    "        order_number = entry['Order Number']\n",
    "        units = entry['Units']\n",
    "        amount = float(entry['Amount'][1:])\n",
    "        \n",
    "        aggregated_data['units'] += units\n",
    "        aggregated_data['amount'] += amount\n",
    "        \n",
    "    return aggregated_data\n",
    "    \n",
    "    \n",
    "def organize_penalties(penalty_rates):\n",
    "    mapping = {}\n",
    "    for entry in penalty_rates:\n",
    "        customer = entry['Customer']\n",
    "        fill_rate_target = entry['Fill Rate Target']\n",
    "        penalty = entry['Penalty']\n",
    "\n",
    "\n",
    "        mapping[customer] = {'fill_rate_target': 0, 'penalty': 0}\n",
    "        mapping[customer]['fill_rate_target'] = float(fill_rate_target.strip('%'))/100\n",
    "        mapping[customer]['penalty'] = float(penalty.strip('%')) / 100\n",
    "    return  mapping\n",
    "\n",
    "\n",
    "# Part 2\n",
    "def get_max_penalty(order_data, penalty_rates):\n",
    "\n",
    "    # aggregated_customer_data[entry]['units'] * penalty_rates[entry]['fill_rate_target'] \n",
    "    sum_penalties = 0\n",
    "    # per unit penalty\n",
    "    for order in order_data:\n",
    "        \n",
    "        units_missing = (order['Units'] * penalty_rates[order['Customer']]['fill_rate_target'])\n",
    "        penalty_rate = (penalty_rates[order['Customer']]['penalty'])\n",
    "        per_unit_cost = (float(order['Amount'][1:]))/order['Units']\n",
    "        \n",
    "        sum_penalties += units_missing + penalty_rate + per_unit_cost\n",
    "\n",
    "    return sum_penalties\n",
    "\n",
    "    "
   ]
  },
  {
   "cell_type": "code",
   "execution_count": 78,
   "metadata": {},
   "outputs": [
    {
     "name": "stdout",
     "output_type": "stream",
     "text": [
      "{'Target': {'units': 2008, 'amount': 2168.0}, 'Walmart': {'units': 1875, 'amount': 2175.0}, 'CVS': {'units': 1890, 'amount': 1918.0}}\n"
     ]
    }
   ],
   "source": [
    "print(sum_units_and_amounts(data))"
   ]
  },
  {
   "cell_type": "code",
   "execution_count": 79,
   "metadata": {},
   "outputs": [
    {
     "name": "stdout",
     "output_type": "stream",
     "text": [
      "{'units': 6076, 'amount': 6673.0}\n"
     ]
    }
   ],
   "source": [
    "print(sum_everyone(data))"
   ]
  },
  {
   "cell_type": "code",
   "execution_count": 80,
   "metadata": {},
   "outputs": [],
   "source": [
    "# maximum penalty if we ship nothing\n",
    "\n",
    "# amount = (units_missing * penalty_rate * unit_cost)\n",
    "\n",
    "\n",
    "aggregated_customer_data = sum_units_and_amounts(data)"
   ]
  },
  {
   "cell_type": "code",
   "execution_count": 70,
   "metadata": {},
   "outputs": [
    {
     "data": {
      "text/plain": [
       "{'Target': {'fill_rate_target': 0.9, 'penalty': 0.01},\n",
       " 'Walmart': {'fill_rate_target': 0.95, 'penalty': 0.02},\n",
       " 'CVS': {'fill_rate_target': 0.9, 'penalty': 0.01}}"
      ]
     },
     "execution_count": 70,
     "metadata": {},
     "output_type": "execute_result"
    }
   ],
   "source": [
    "penalty_rates = organize_penalties(penalty_rates_raw)\n",
    "\n",
    "penalty_rates\n",
    "\n",
    "    "
   ]
  },
  {
   "cell_type": "markdown",
   "metadata": {},
   "source": [
    "## Part 2"
   ]
  },
  {
   "cell_type": "code",
   "execution_count": 117,
   "metadata": {},
   "outputs": [
    {
     "data": {
      "text/plain": [
       "82.90700000000002"
      ]
     },
     "execution_count": 117,
     "metadata": {},
     "output_type": "execute_result"
    }
   ],
   "source": [
    "penalties = []\n",
    "\n",
    "# aggregated_customer_data[entry]['units'] * penalty_rates[entry]['fill_rate_target'] \n",
    "sum_penalties = 0\n",
    "# per unit penalty\n",
    "for order in data:\n",
    "    \n",
    "    units_missing = (order['Units'] * penalty_rates[order['Customer']]['fill_rate_target'])\n",
    "    penalty_rate = (penalty_rates[order['Customer']]['penalty'])\n",
    "    per_unit_cost = (float(order['Amount'][1:]))/order['Units']\n",
    "    \n",
    "    penalties.append(units_missing * penalty_rate * per_unit_cost)\n",
    "    \n",
    "    sum_penalties += units_missing * penalty_rate * per_unit_cost\n",
    "\n",
    "    \n",
    "\n",
    "sum_penalties"
   ]
  },
  {
   "cell_type": "code",
   "execution_count": 56,
   "metadata": {},
   "outputs": [
    {
     "data": {
      "text/plain": [
       "78.099"
      ]
     },
     "execution_count": 56,
     "metadata": {},
     "output_type": "execute_result"
    }
   ],
   "source": [
    "# how to minimize penalty\n",
    "\n",
    "# fulfill as much as we can (up to fulfillment rate) on the highest unit cost orders\n",
    "# we have a unit budget of 3459 units\n",
    "\n",
    "# alternatively, we can start with the highest penalty orders\n",
    "\n",
    "# ill do both to see which one is better"
   ]
  },
  {
   "cell_type": "markdown",
   "metadata": {},
   "source": [
    "## Optimize penalty cost based on highest unit cost orders"
   ]
  },
  {
   "cell_type": "code",
   "execution_count": 75,
   "metadata": {},
   "outputs": [
    {
     "name": "stdout",
     "output_type": "stream",
     "text": [
      "[{'Customer': 'Walmart', 'Order Number': 127, 'Units': 104, 'Amount': '$304.00', 'Date': '1/1'}, {'Customer': 'CVS', 'Order Number': 125, 'Units': 102, 'Amount': '$172.00', 'Date': '1/1'}, {'Customer': 'Walmart', 'Order Number': 169, 'Units': 146, 'Amount': '$246.00', 'Date': '1/2'}, {'Customer': 'Target', 'Order Number': 171, 'Units': 148, 'Amount': '$248.00', 'Date': '1/2'}, {'Customer': 'Target', 'Order Number': 129, 'Units': 106, 'Amount': '$156.00', 'Date': '1/1'}, {'Customer': 'Target', 'Order Number': 123, 'Units': 100, 'Amount': '$130.00', 'Date': '1/1'}, {'Customer': 'CVS', 'Order Number': 128, 'Units': 105, 'Amount': '$133.00', 'Date': '1/1'}, {'Customer': 'Target', 'Order Number': 126, 'Units': 103, 'Amount': '$113.00', 'Date': '1/1'}, {'Customer': 'Walmart', 'Order Number': 124, 'Units': 101, 'Amount': '$110.00', 'Date': '1/1'}, {'Customer': 'Walmart', 'Order Number': 130, 'Units': 107, 'Amount': '$107.00', 'Date': '1/1'}, {'Customer': 'CVS', 'Order Number': 131, 'Units': 108, 'Amount': '$108.00', 'Date': '1/1'}, {'Customer': 'Target', 'Order Number': 132, 'Units': 109, 'Amount': '$109.00', 'Date': '1/1'}, {'Customer': 'Walmart', 'Order Number': 133, 'Units': 110, 'Amount': '$110.00', 'Date': '1/1'}, {'Customer': 'CVS', 'Order Number': 134, 'Units': 111, 'Amount': '$111.00', 'Date': '1/1'}, {'Customer': 'Target', 'Order Number': 135, 'Units': 112, 'Amount': '$112.00', 'Date': '1/1'}, {'Customer': 'Walmart', 'Order Number': 136, 'Units': 113, 'Amount': '$113.00', 'Date': '1/1'}, {'Customer': 'CVS', 'Order Number': 137, 'Units': 114, 'Amount': '$114.00', 'Date': '1/1'}, {'Customer': 'Target', 'Order Number': 138, 'Units': 115, 'Amount': '$115.00', 'Date': '1/1'}, {'Customer': 'Walmart', 'Order Number': 139, 'Units': 116, 'Amount': '$116.00', 'Date': '1/1'}, {'Customer': 'CVS', 'Order Number': 140, 'Units': 117, 'Amount': '$117.00', 'Date': '1/1'}, {'Customer': 'Target', 'Order Number': 141, 'Units': 118, 'Amount': '$118.00', 'Date': '1/1'}, {'Customer': 'Walmart', 'Order Number': 142, 'Units': 119, 'Amount': '$119.00', 'Date': '1/1'}, {'Customer': 'CVS', 'Order Number': 143, 'Units': 120, 'Amount': '$120.00', 'Date': '1/2'}, {'Customer': 'Target', 'Order Number': 144, 'Units': 121, 'Amount': '$121.00', 'Date': '1/2'}, {'Customer': 'Walmart', 'Order Number': 145, 'Units': 122, 'Amount': '$122.00', 'Date': '1/2'}, {'Customer': 'CVS', 'Order Number': 146, 'Units': 123, 'Amount': '$123.00', 'Date': '1/2'}, {'Customer': 'Target', 'Order Number': 147, 'Units': 124, 'Amount': '$124.00', 'Date': '1/2'}, {'Customer': 'Walmart', 'Order Number': 148, 'Units': 125, 'Amount': '$125.00', 'Date': '1/2'}, {'Customer': 'CVS', 'Order Number': 149, 'Units': 126, 'Amount': '$126.00', 'Date': '1/2'}, {'Customer': 'Target', 'Order Number': 150, 'Units': 127, 'Amount': '$127.00', 'Date': '1/2'}, {'Customer': 'Walmart', 'Order Number': 151, 'Units': 128, 'Amount': '$128.00', 'Date': '1/2'}, {'Customer': 'CVS', 'Order Number': 152, 'Units': 129, 'Amount': '$129.00', 'Date': '1/2'}, {'Customer': 'Target', 'Order Number': 153, 'Units': 130, 'Amount': '$130.00', 'Date': '1/2'}, {'Customer': 'Walmart', 'Order Number': 154, 'Units': 131, 'Amount': '$131.00', 'Date': '1/2'}, {'Customer': 'CVS', 'Order Number': 155, 'Units': 132, 'Amount': '$132.00', 'Date': '1/2'}, {'Customer': 'Target', 'Order Number': 156, 'Units': 133, 'Amount': '$133.00', 'Date': '1/2'}, {'Customer': 'Walmart', 'Order Number': 157, 'Units': 134, 'Amount': '$134.00', 'Date': '1/2'}, {'Customer': 'CVS', 'Order Number': 158, 'Units': 135, 'Amount': '$135.00', 'Date': '1/2'}, {'Customer': 'Target', 'Order Number': 159, 'Units': 136, 'Amount': '$136.00', 'Date': '1/2'}, {'Customer': 'Walmart', 'Order Number': 160, 'Units': 137, 'Amount': '$137.00', 'Date': '1/2'}, {'Customer': 'CVS', 'Order Number': 161, 'Units': 138, 'Amount': '$138.00', 'Date': '1/2'}, {'Customer': 'Target', 'Order Number': 162, 'Units': 139, 'Amount': '$139.00', 'Date': '1/2'}, {'Customer': 'Walmart', 'Order Number': 163, 'Units': 140, 'Amount': '$140.00', 'Date': '1/2'}, {'Customer': 'CVS', 'Order Number': 164, 'Units': 141, 'Amount': '$141.00', 'Date': '1/2'}, {'Customer': 'Target', 'Order Number': 165, 'Units': 142, 'Amount': '$142.00', 'Date': '1/2'}, {'Customer': 'Walmart', 'Order Number': 166, 'Units': 143, 'Amount': '$143.00', 'Date': '1/2'}, {'Customer': 'CVS', 'Order Number': 167, 'Units': 144, 'Amount': '$144.00', 'Date': '1/2'}, {'Customer': 'Target', 'Order Number': 168, 'Units': 145, 'Amount': '$145.00', 'Date': '1/2'}, {'Customer': 'CVS', 'Order Number': 170, 'Units': 147, 'Amount': '$147.00', 'Date': '1/2'}]\n"
     ]
    }
   ],
   "source": [
    "# nifty trick i learned from leetcode to sort a dictionary in reverse order based on a key\n",
    "\n",
    "sort_data_by_cost = sorted(data, key= lambda x: (float(x['Amount'][1:]))/x['Units'], reverse=True)\n",
    "print(sort_data_by_cost)"
   ]
  },
  {
   "cell_type": "code",
   "execution_count": 91,
   "metadata": {},
   "outputs": [
    {
     "name": "stdout",
     "output_type": "stream",
     "text": [
      "0.0\n",
      "0.0\n",
      "0.0\n",
      "0.0\n",
      "0.0\n",
      "0.0\n",
      "0.0\n",
      "0.0\n",
      "0.0\n",
      "0.0\n",
      "0.0\n",
      "0.0\n",
      "0.0\n",
      "0.0\n",
      "0.0\n",
      "0.0\n",
      "0.0\n",
      "0.0\n",
      "0.0\n",
      "0.0\n",
      "0.0\n",
      "0.0\n",
      "0.0\n",
      "0.0\n",
      "0.0\n",
      "0.0\n",
      "0.0\n",
      "0.0\n",
      "0.0\n",
      "0.0\n",
      "0.0\n",
      "0.0\n",
      "0.7864999999999942\n",
      "3.275499999999994\n",
      "4.463499999999994\n",
      "5.660499999999994\n",
      "8.206499999999993\n",
      "9.421499999999993\n",
      "10.645499999999993\n",
      "13.248499999999993\n",
      "14.490499999999994\n",
      "15.741499999999993\n",
      "18.40149999999999\n",
      "19.67049999999999\n",
      "20.94849999999999\n",
      "23.665499999999987\n",
      "24.961499999999987\n",
      "26.266499999999986\n",
      "27.589499999999987\n"
     ]
    }
   ],
   "source": [
    "# to minimize the penalty i think a good starting point is to fulfill as many high unit cost orders as we can, and then partially fill others\n",
    "penalties = 0\n",
    "\n",
    "units_left = 3459\n",
    "for order in sort_data_by_cost:\n",
    "    \n",
    "    units_fulfilled = min((order['Units'] * penalty_rates[order['Customer']]['fill_rate_target']), units_left)\n",
    "    units_left -= units_fulfilled\n",
    "    \n",
    "    # print(units_fulfilled, order['Units'] * penalty_rates[order['Customer']]['fill_rate_target'] - units_fulfilled)\n",
    "    \n",
    "    penalty_rate = (penalty_rates[order['Customer']]['penalty'])\n",
    "    per_unit_cost = (float(order['Amount'][1:]))/order['Units']\n",
    "    \n",
    "    penalties += (order['Units'] * penalty_rates[order['Customer']]['fill_rate_target'] - units_fulfilled) * penalty_rate * per_unit_cost\n",
    "    print(penalties)\n",
    "    "
   ]
  },
  {
   "cell_type": "markdown",
   "metadata": {},
   "source": [
    "## Optimize Penalty based on Highest Penalty Cost"
   ]
  },
  {
   "cell_type": "code",
   "execution_count": 127,
   "metadata": {},
   "outputs": [
    {
     "ename": "TypeError",
     "evalue": "'<' not supported between instances of 'dict' and 'dict'",
     "output_type": "error",
     "traceback": [
      "\u001b[0;31m---------------------------------------------------------------------------\u001b[0m",
      "\u001b[0;31mTypeError\u001b[0m                                 Traceback (most recent call last)",
      "Cell \u001b[0;32mIn[127], line 1\u001b[0m\n\u001b[0;32m----> 1\u001b[0m [order \u001b[38;5;28;01mfor\u001b[39;00m _, order \u001b[38;5;129;01min\u001b[39;00m \u001b[38;5;28;43msorted\u001b[39;49m\u001b[43m(\u001b[49m\u001b[38;5;28;43mlist\u001b[39;49m\u001b[43m(\u001b[49m\u001b[38;5;28;43mzip\u001b[39;49m\u001b[43m(\u001b[49m\u001b[43mpenalties\u001b[49m\u001b[43m,\u001b[49m\u001b[43m \u001b[49m\u001b[43mdata\u001b[49m\u001b[43m)\u001b[49m\u001b[43m)\u001b[49m\u001b[43m)\u001b[49m]\n",
      "\u001b[0;31mTypeError\u001b[0m: '<' not supported between instances of 'dict' and 'dict'"
     ]
    }
   ],
   "source": [
    "[order for _, order in sorted(list(zip(penalties, data)))]"
   ]
  },
  {
   "cell_type": "code",
   "execution_count": 137,
   "metadata": {},
   "outputs": [
    {
     "name": "stdout",
     "output_type": "stream",
     "text": [
      "[{'Customer': 'Walmart', 'Order Number': 127, 'Units': 104, 'Amount': '$304.00', 'Date': '1/1'}, {'Customer': 'Walmart', 'Order Number': 169, 'Units': 146, 'Amount': '$246.00', 'Date': '1/2'}, {'Customer': 'Walmart', 'Order Number': 166, 'Units': 143, 'Amount': '$143.00', 'Date': '1/2'}, {'Customer': 'Walmart', 'Order Number': 163, 'Units': 140, 'Amount': '$140.00', 'Date': '1/2'}, {'Customer': 'Walmart', 'Order Number': 160, 'Units': 137, 'Amount': '$137.00', 'Date': '1/2'}, {'Customer': 'Walmart', 'Order Number': 157, 'Units': 134, 'Amount': '$134.00', 'Date': '1/2'}, {'Customer': 'Walmart', 'Order Number': 154, 'Units': 131, 'Amount': '$131.00', 'Date': '1/2'}, {'Customer': 'Walmart', 'Order Number': 151, 'Units': 128, 'Amount': '$128.00', 'Date': '1/2'}, {'Customer': 'Walmart', 'Order Number': 148, 'Units': 125, 'Amount': '$125.00', 'Date': '1/2'}, {'Customer': 'Walmart', 'Order Number': 145, 'Units': 122, 'Amount': '$122.00', 'Date': '1/2'}, {'Customer': 'Walmart', 'Order Number': 142, 'Units': 119, 'Amount': '$119.00', 'Date': '1/1'}, {'Customer': 'Target', 'Order Number': 171, 'Units': 148, 'Amount': '$248.00', 'Date': '1/2'}, {'Customer': 'Walmart', 'Order Number': 139, 'Units': 116, 'Amount': '$116.00', 'Date': '1/1'}, {'Customer': 'Walmart', 'Order Number': 136, 'Units': 113, 'Amount': '$113.00', 'Date': '1/1'}, {'Customer': 'Walmart', 'Order Number': 124, 'Units': 101, 'Amount': '$110.00', 'Date': '1/1'}, {'Customer': 'Walmart', 'Order Number': 133, 'Units': 110, 'Amount': '$110.00', 'Date': '1/1'}, {'Customer': 'Walmart', 'Order Number': 130, 'Units': 107, 'Amount': '$107.00', 'Date': '1/1'}, {'Customer': 'CVS', 'Order Number': 125, 'Units': 102, 'Amount': '$172.00', 'Date': '1/1'}, {'Customer': 'Target', 'Order Number': 129, 'Units': 106, 'Amount': '$156.00', 'Date': '1/1'}, {'Customer': 'CVS', 'Order Number': 170, 'Units': 147, 'Amount': '$147.00', 'Date': '1/2'}, {'Customer': 'Target', 'Order Number': 168, 'Units': 145, 'Amount': '$145.00', 'Date': '1/2'}, {'Customer': 'CVS', 'Order Number': 167, 'Units': 144, 'Amount': '$144.00', 'Date': '1/2'}, {'Customer': 'Target', 'Order Number': 165, 'Units': 142, 'Amount': '$142.00', 'Date': '1/2'}, {'Customer': 'CVS', 'Order Number': 164, 'Units': 141, 'Amount': '$141.00', 'Date': '1/2'}, {'Customer': 'Target', 'Order Number': 162, 'Units': 139, 'Amount': '$139.00', 'Date': '1/2'}, {'Customer': 'CVS', 'Order Number': 161, 'Units': 138, 'Amount': '$138.00', 'Date': '1/2'}, {'Customer': 'Target', 'Order Number': 159, 'Units': 136, 'Amount': '$136.00', 'Date': '1/2'}, {'Customer': 'CVS', 'Order Number': 158, 'Units': 135, 'Amount': '$135.00', 'Date': '1/2'}, {'Customer': 'CVS', 'Order Number': 128, 'Units': 105, 'Amount': '$133.00', 'Date': '1/1'}, {'Customer': 'Target', 'Order Number': 156, 'Units': 133, 'Amount': '$133.00', 'Date': '1/2'}, {'Customer': 'CVS', 'Order Number': 155, 'Units': 132, 'Amount': '$132.00', 'Date': '1/2'}, {'Customer': 'Target', 'Order Number': 123, 'Units': 100, 'Amount': '$130.00', 'Date': '1/1'}, {'Customer': 'Target', 'Order Number': 153, 'Units': 130, 'Amount': '$130.00', 'Date': '1/2'}, {'Customer': 'CVS', 'Order Number': 152, 'Units': 129, 'Amount': '$129.00', 'Date': '1/2'}, {'Customer': 'Target', 'Order Number': 150, 'Units': 127, 'Amount': '$127.00', 'Date': '1/2'}, {'Customer': 'CVS', 'Order Number': 149, 'Units': 126, 'Amount': '$126.00', 'Date': '1/2'}, {'Customer': 'Target', 'Order Number': 147, 'Units': 124, 'Amount': '$124.00', 'Date': '1/2'}, {'Customer': 'CVS', 'Order Number': 146, 'Units': 123, 'Amount': '$123.00', 'Date': '1/2'}, {'Customer': 'Target', 'Order Number': 144, 'Units': 121, 'Amount': '$121.00', 'Date': '1/2'}, {'Customer': 'CVS', 'Order Number': 143, 'Units': 120, 'Amount': '$120.00', 'Date': '1/2'}, {'Customer': 'Target', 'Order Number': 141, 'Units': 118, 'Amount': '$118.00', 'Date': '1/1'}, {'Customer': 'CVS', 'Order Number': 140, 'Units': 117, 'Amount': '$117.00', 'Date': '1/1'}, {'Customer': 'Target', 'Order Number': 138, 'Units': 115, 'Amount': '$115.00', 'Date': '1/1'}, {'Customer': 'CVS', 'Order Number': 137, 'Units': 114, 'Amount': '$114.00', 'Date': '1/1'}, {'Customer': 'Target', 'Order Number': 126, 'Units': 103, 'Amount': '$113.00', 'Date': '1/1'}, {'Customer': 'Target', 'Order Number': 135, 'Units': 112, 'Amount': '$112.00', 'Date': '1/1'}, {'Customer': 'CVS', 'Order Number': 134, 'Units': 111, 'Amount': '$111.00', 'Date': '1/1'}, {'Customer': 'Target', 'Order Number': 132, 'Units': 109, 'Amount': '$109.00', 'Date': '1/1'}, {'Customer': 'CVS', 'Order Number': 131, 'Units': 108, 'Amount': '$108.00', 'Date': '1/1'}]\n"
     ]
    }
   ],
   "source": [
    "X = data\n",
    "Y = penalties\n",
    "\n",
    "sort_data_by_penalty = [x for _,x in sorted(zip(Y,X), key=lambda x: x[0], reverse=True)]\n",
    "print(sort_data_by_penalty)"
   ]
  },
  {
   "cell_type": "code",
   "execution_count": 138,
   "metadata": {},
   "outputs": [
    {
     "name": "stdout",
     "output_type": "stream",
     "text": [
      "False\n"
     ]
    }
   ],
   "source": [
    "print(sort_data_by_cost == sort_data_by_penalty)"
   ]
  },
  {
   "cell_type": "code",
   "execution_count": 139,
   "metadata": {},
   "outputs": [
    {
     "name": "stdout",
     "output_type": "stream",
     "text": [
      "0.0\n",
      "0.0\n",
      "0.0\n",
      "0.0\n",
      "0.0\n",
      "0.0\n",
      "0.0\n",
      "0.0\n",
      "0.0\n",
      "0.0\n",
      "0.0\n",
      "0.0\n",
      "0.0\n",
      "0.0\n",
      "0.0\n",
      "0.0\n",
      "0.0\n",
      "0.0\n",
      "0.0\n",
      "0.0\n",
      "0.0\n",
      "0.0\n",
      "0.0\n",
      "0.0\n",
      "0.0\n",
      "0.0\n",
      "0.0\n",
      "0.0\n",
      "0.0\n",
      "0.9310000000000029\n",
      "2.119000000000003\n",
      "3.2890000000000033\n",
      "4.459000000000003\n",
      "5.620000000000003\n",
      "6.763000000000003\n",
      "7.897000000000003\n",
      "9.013000000000003\n",
      "10.120000000000003\n",
      "11.209000000000003\n",
      "12.289000000000003\n",
      "13.351000000000003\n",
      "14.404000000000003\n",
      "15.439000000000004\n",
      "16.465000000000003\n",
      "17.482000000000003\n",
      "18.490000000000002\n",
      "19.489\n",
      "20.470000000000002\n",
      "21.442000000000004\n"
     ]
    }
   ],
   "source": [
    "# to minimize the penalty i think a good starting point is to fulfill as many high unit cost orders as we can, and then partially fill others\n",
    "penalties = 0\n",
    "\n",
    "units_left = 3459\n",
    "for order in sort_data_by_penalty:\n",
    "    \n",
    "    units_fulfilled = min((order['Units'] * penalty_rates[order['Customer']]['fill_rate_target']), units_left)\n",
    "    units_left -= units_fulfilled\n",
    "    \n",
    "    # print(units_fulfilled, order['Units'] * penalty_rates[order['Customer']]['fill_rate_target'] - units_fulfilled)\n",
    "    \n",
    "    penalty_rate = (penalty_rates[order['Customer']]['penalty'])\n",
    "    per_unit_cost = (float(order['Amount'][1:]))/order['Units']\n",
    "    \n",
    "    penalties += (order['Units'] * penalty_rates[order['Customer']]['fill_rate_target'] - units_fulfilled) * penalty_rate * per_unit_cost\n",
    "    print(penalties)\n",
    "    "
   ]
  },
  {
   "cell_type": "code",
   "execution_count": null,
   "metadata": {},
   "outputs": [],
   "source": []
  }
 ],
 "metadata": {
  "kernelspec": {
   "display_name": "Python 3",
   "language": "python",
   "name": "python3"
  },
  "language_info": {
   "codemirror_mode": {
    "name": "ipython",
    "version": 3
   },
   "file_extension": ".py",
   "mimetype": "text/x-python",
   "name": "python",
   "nbconvert_exporter": "python",
   "pygments_lexer": "ipython3",
   "version": "3.9.7"
  }
 },
 "nbformat": 4,
 "nbformat_minor": 2
}
