{
 "cells": [
  {
   "cell_type": "markdown",
   "metadata": {},
   "source": [
    "## Part 1\n",
    "\n",
    "Importing Data + Creating helper functions"
   ]
  },
  {
   "cell_type": "code",
   "execution_count": 1,
   "metadata": {},
   "outputs": [],
   "source": [
    "import json\n",
    "\n",
    "with open('purchase_orders.json', 'r') as file:\n",
    "    data = json.load(file)\n",
    "    \n",
    "with open('penalty_rates.json', 'r') as file:\n",
    "    penalty_rates_raw = json.load(file)"
   ]
  },
  {
   "cell_type": "code",
   "execution_count": 2,
   "metadata": {},
   "outputs": [],
   "source": [
    "def sum_units_and_amounts(data):\n",
    "    \"\"\"\n",
    "    takes in a list of dicts\n",
    "    returns aggregated amounts and units for each customer\n",
    "    \n",
    "    \n",
    "    {target: {\n",
    "        units: 1000\n",
    "        amounts: 10000\n",
    "    }}\n",
    "    \n",
    "    \"\"\"\n",
    "    \n",
    "    aggregated_data = {}\n",
    "    for entry in data:\n",
    "        customer = entry['Customer']\n",
    "        order_number = entry['Order Number']\n",
    "        units = entry['Units']\n",
    "        amount = float(entry['Amount'][1:])\n",
    "        \n",
    "        if customer in aggregated_data:\n",
    "            aggregated_data[customer]['units'] += units\n",
    "            aggregated_data[customer]['amount'] += amount\n",
    "        else:\n",
    "            aggregated_data[customer] = {'units': 0, 'amount': 0}\n",
    "        \n",
    "    return aggregated_data\n",
    "\n",
    "\n",
    "def sum_everyone(data):\n",
    "    aggregated_data = {'units': 0, 'amount': 0}\n",
    "    for entry in data:\n",
    "        customer = entry['Customer']\n",
    "        order_number = entry['Order Number']\n",
    "        units = entry['Units']\n",
    "        amount = float(entry['Amount'][1:])\n",
    "        \n",
    "        aggregated_data['units'] += units\n",
    "        aggregated_data['amount'] += amount\n",
    "        \n",
    "    return aggregated_data\n",
    "    \n",
    "    \n",
    "def organize_penalties(penalty_rates):\n",
    "    mapping = {}\n",
    "    for entry in penalty_rates:\n",
    "        customer = entry['Customer']\n",
    "        fill_rate_target = entry['Fill Rate Target']\n",
    "        penalty = entry['Penalty']\n",
    "\n",
    "\n",
    "        mapping[customer] = {'fill_rate_target': 0, 'penalty': 0}\n",
    "        mapping[customer]['fill_rate_target'] = float(fill_rate_target.strip('%'))/100\n",
    "        mapping[customer]['penalty'] = float(penalty.strip('%')) / 100\n",
    "    return  mapping\n",
    "\n",
    "\n",
    "# Part 2\n",
    "def get_max_penalty(order_data, penalty_rates):\n",
    "\n",
    "    # aggregated_customer_data[entry]['units'] * penalty_rates[entry]['fill_rate_target'] \n",
    "    sum_penalties = 0\n",
    "    # per unit penalty\n",
    "    for order in order_data:\n",
    "        \n",
    "        units_missing = (order['Units'] * penalty_rates[order['Customer']]['fill_rate_target'])\n",
    "        penalty_rate = (penalty_rates[order['Customer']]['penalty'])\n",
    "        per_unit_cost = (float(order['Amount'][1:]))/order['Units']\n",
    "        \n",
    "        sum_penalties += units_missing * penalty_rate * per_unit_cost\n",
    "\n",
    "    return sum_penalties\n",
    "\n",
    "\n",
    "# Part 3\n",
    "\n",
    "def optimize_penalty(data, penalty_rates):\n",
    "    # to minimize the penalty i think a good starting point is to fulfill as many high unit cost orders as we can, and then partially fill others\n",
    "    penalties = 0\n",
    "\n",
    "    units_left = 3459\n",
    "    for order in data:\n",
    "        \n",
    "        units_fulfilled = min((order['Units'] * penalty_rates[order['Customer']]['fill_rate_target']), units_left)\n",
    "        units_left -= units_fulfilled\n",
    "        \n",
    "        # print(units_fulfilled, order['Units'] * penalty_rates[order['Customer']]['fill_rate_target'] - units_fulfilled)\n",
    "        \n",
    "        penalty_rate = (penalty_rates[order['Customer']]['penalty'])\n",
    "        per_unit_cost = (float(order['Amount'][1:]))/order['Units']\n",
    "        \n",
    "        penalties += (order['Units'] * penalty_rates[order['Customer']]['fill_rate_target'] - units_fulfilled) * penalty_rate * per_unit_cost\n",
    "        # print(penalties)\n",
    "    return penalties\n",
    "\n",
    "    "
   ]
  },
  {
   "cell_type": "code",
   "execution_count": 3,
   "metadata": {},
   "outputs": [
    {
     "name": "stdout",
     "output_type": "stream",
     "text": [
      "{'Target': {'units': 2008, 'amount': 2168.0}, 'Walmart': {'units': 1875, 'amount': 2175.0}, 'CVS': {'units': 1890, 'amount': 1918.0}}\n"
     ]
    }
   ],
   "source": [
    "print(sum_units_and_amounts(data))"
   ]
  },
  {
   "cell_type": "markdown",
   "metadata": {},
   "source": [
    "## Part 1: Sum all units and amounts"
   ]
  },
  {
   "cell_type": "code",
   "execution_count": 4,
   "metadata": {},
   "outputs": [
    {
     "name": "stdout",
     "output_type": "stream",
     "text": [
      "{'units': 6076, 'amount': 6673.0}\n"
     ]
    }
   ],
   "source": [
    "print(sum_everyone(data))"
   ]
  },
  {
   "cell_type": "code",
   "execution_count": 5,
   "metadata": {},
   "outputs": [
    {
     "data": {
      "text/plain": [
       "{'Target': {'fill_rate_target': 0.9, 'penalty': 0.01},\n",
       " 'Walmart': {'fill_rate_target': 0.95, 'penalty': 0.02},\n",
       " 'CVS': {'fill_rate_target': 0.9, 'penalty': 0.01}}"
      ]
     },
     "execution_count": 5,
     "metadata": {},
     "output_type": "execute_result"
    }
   ],
   "source": [
    "aggregated_customer_data = sum_units_and_amounts(data)\n",
    "\n",
    "penalty_rates = organize_penalties(penalty_rates_raw)\n",
    "\n",
    "penalty_rates"
   ]
  },
  {
   "cell_type": "markdown",
   "metadata": {},
   "source": [
    "## Part 2\n",
    "\n",
    "Write a function to determine the penalty if we ship nothing. Ie, we incur the maximum\n",
    "penalty possible."
   ]
  },
  {
   "cell_type": "code",
   "execution_count": 6,
   "metadata": {},
   "outputs": [
    {
     "name": "stdout",
     "output_type": "stream",
     "text": [
      "82.90700000000002\n"
     ]
    }
   ],
   "source": [
    "print(get_max_penalty(data, penalty_rates))"
   ]
  },
  {
   "cell_type": "code",
   "execution_count": 10,
   "metadata": {},
   "outputs": [
    {
     "data": {
      "text/plain": [
       "82.90700000000002"
      ]
     },
     "execution_count": 10,
     "metadata": {},
     "output_type": "execute_result"
    }
   ],
   "source": [
    "penalties = []\n",
    "\n",
    "# aggregated_customer_data[entry]['units'] * penalty_rates[entry]['fill_rate_target'] \n",
    "sum_penalties = 0\n",
    "# per unit penalty\n",
    "for order in data:\n",
    "    \n",
    "    units_missing = (order['Units'] * penalty_rates[order['Customer']]['fill_rate_target'])\n",
    "    penalty_rate = (penalty_rates[order['Customer']]['penalty'])\n",
    "    per_unit_cost = (float(order['Amount'][1:]))/order['Units']\n",
    "    \n",
    "    penalties.append(units_missing * penalty_rate * per_unit_cost)\n",
    "    \n",
    "    sum_penalties += units_missing * penalty_rate * per_unit_cost\n",
    "\n",
    "    \n",
    "\n",
    "sum_penalties"
   ]
  },
  {
   "cell_type": "markdown",
   "metadata": {},
   "source": [
    "## Part 3: How can penalty be minimized best?\n",
    "\n",
    "#### Idea 1: fulfill as much as we can (up to fulfillment target rate) on the highest unit cost orders first\n",
    "\n",
    "#### Idea 2: alternatively, we can optimize based on the highest penalty orders first.\n",
    "\n",
    "#### I'll experiment with both to see which one is better"
   ]
  },
  {
   "cell_type": "markdown",
   "metadata": {},
   "source": [
    "## Optimize penalty cost based on highest unit cost orders"
   ]
  },
  {
   "cell_type": "code",
   "execution_count": 7,
   "metadata": {},
   "outputs": [
    {
     "name": "stdout",
     "output_type": "stream",
     "text": [
      "[{'Customer': 'Walmart', 'Order Number': 127, 'Units': 104, 'Amount': '$304.00', 'Date': '1/1'}, {'Customer': 'CVS', 'Order Number': 125, 'Units': 102, 'Amount': '$172.00', 'Date': '1/1'}, {'Customer': 'Walmart', 'Order Number': 169, 'Units': 146, 'Amount': '$246.00', 'Date': '1/2'}, {'Customer': 'Target', 'Order Number': 171, 'Units': 148, 'Amount': '$248.00', 'Date': '1/2'}, {'Customer': 'Target', 'Order Number': 129, 'Units': 106, 'Amount': '$156.00', 'Date': '1/1'}, {'Customer': 'Target', 'Order Number': 123, 'Units': 100, 'Amount': '$130.00', 'Date': '1/1'}, {'Customer': 'CVS', 'Order Number': 128, 'Units': 105, 'Amount': '$133.00', 'Date': '1/1'}, {'Customer': 'Target', 'Order Number': 126, 'Units': 103, 'Amount': '$113.00', 'Date': '1/1'}, {'Customer': 'Walmart', 'Order Number': 124, 'Units': 101, 'Amount': '$110.00', 'Date': '1/1'}, {'Customer': 'Walmart', 'Order Number': 130, 'Units': 107, 'Amount': '$107.00', 'Date': '1/1'}, {'Customer': 'CVS', 'Order Number': 131, 'Units': 108, 'Amount': '$108.00', 'Date': '1/1'}, {'Customer': 'Target', 'Order Number': 132, 'Units': 109, 'Amount': '$109.00', 'Date': '1/1'}, {'Customer': 'Walmart', 'Order Number': 133, 'Units': 110, 'Amount': '$110.00', 'Date': '1/1'}, {'Customer': 'CVS', 'Order Number': 134, 'Units': 111, 'Amount': '$111.00', 'Date': '1/1'}, {'Customer': 'Target', 'Order Number': 135, 'Units': 112, 'Amount': '$112.00', 'Date': '1/1'}, {'Customer': 'Walmart', 'Order Number': 136, 'Units': 113, 'Amount': '$113.00', 'Date': '1/1'}, {'Customer': 'CVS', 'Order Number': 137, 'Units': 114, 'Amount': '$114.00', 'Date': '1/1'}, {'Customer': 'Target', 'Order Number': 138, 'Units': 115, 'Amount': '$115.00', 'Date': '1/1'}, {'Customer': 'Walmart', 'Order Number': 139, 'Units': 116, 'Amount': '$116.00', 'Date': '1/1'}, {'Customer': 'CVS', 'Order Number': 140, 'Units': 117, 'Amount': '$117.00', 'Date': '1/1'}, {'Customer': 'Target', 'Order Number': 141, 'Units': 118, 'Amount': '$118.00', 'Date': '1/1'}, {'Customer': 'Walmart', 'Order Number': 142, 'Units': 119, 'Amount': '$119.00', 'Date': '1/1'}, {'Customer': 'CVS', 'Order Number': 143, 'Units': 120, 'Amount': '$120.00', 'Date': '1/2'}, {'Customer': 'Target', 'Order Number': 144, 'Units': 121, 'Amount': '$121.00', 'Date': '1/2'}, {'Customer': 'Walmart', 'Order Number': 145, 'Units': 122, 'Amount': '$122.00', 'Date': '1/2'}, {'Customer': 'CVS', 'Order Number': 146, 'Units': 123, 'Amount': '$123.00', 'Date': '1/2'}, {'Customer': 'Target', 'Order Number': 147, 'Units': 124, 'Amount': '$124.00', 'Date': '1/2'}, {'Customer': 'Walmart', 'Order Number': 148, 'Units': 125, 'Amount': '$125.00', 'Date': '1/2'}, {'Customer': 'CVS', 'Order Number': 149, 'Units': 126, 'Amount': '$126.00', 'Date': '1/2'}, {'Customer': 'Target', 'Order Number': 150, 'Units': 127, 'Amount': '$127.00', 'Date': '1/2'}, {'Customer': 'Walmart', 'Order Number': 151, 'Units': 128, 'Amount': '$128.00', 'Date': '1/2'}, {'Customer': 'CVS', 'Order Number': 152, 'Units': 129, 'Amount': '$129.00', 'Date': '1/2'}, {'Customer': 'Target', 'Order Number': 153, 'Units': 130, 'Amount': '$130.00', 'Date': '1/2'}, {'Customer': 'Walmart', 'Order Number': 154, 'Units': 131, 'Amount': '$131.00', 'Date': '1/2'}, {'Customer': 'CVS', 'Order Number': 155, 'Units': 132, 'Amount': '$132.00', 'Date': '1/2'}, {'Customer': 'Target', 'Order Number': 156, 'Units': 133, 'Amount': '$133.00', 'Date': '1/2'}, {'Customer': 'Walmart', 'Order Number': 157, 'Units': 134, 'Amount': '$134.00', 'Date': '1/2'}, {'Customer': 'CVS', 'Order Number': 158, 'Units': 135, 'Amount': '$135.00', 'Date': '1/2'}, {'Customer': 'Target', 'Order Number': 159, 'Units': 136, 'Amount': '$136.00', 'Date': '1/2'}, {'Customer': 'Walmart', 'Order Number': 160, 'Units': 137, 'Amount': '$137.00', 'Date': '1/2'}, {'Customer': 'CVS', 'Order Number': 161, 'Units': 138, 'Amount': '$138.00', 'Date': '1/2'}, {'Customer': 'Target', 'Order Number': 162, 'Units': 139, 'Amount': '$139.00', 'Date': '1/2'}, {'Customer': 'Walmart', 'Order Number': 163, 'Units': 140, 'Amount': '$140.00', 'Date': '1/2'}, {'Customer': 'CVS', 'Order Number': 164, 'Units': 141, 'Amount': '$141.00', 'Date': '1/2'}, {'Customer': 'Target', 'Order Number': 165, 'Units': 142, 'Amount': '$142.00', 'Date': '1/2'}, {'Customer': 'Walmart', 'Order Number': 166, 'Units': 143, 'Amount': '$143.00', 'Date': '1/2'}, {'Customer': 'CVS', 'Order Number': 167, 'Units': 144, 'Amount': '$144.00', 'Date': '1/2'}, {'Customer': 'Target', 'Order Number': 168, 'Units': 145, 'Amount': '$145.00', 'Date': '1/2'}, {'Customer': 'CVS', 'Order Number': 170, 'Units': 147, 'Amount': '$147.00', 'Date': '1/2'}]\n"
     ]
    }
   ],
   "source": [
    "# nifty trick i learned from leetcode to sort a dictionary in reverse order based on a key\n",
    "\n",
    "sort_data_by_cost = sorted(data, key= lambda x: (float(x['Amount'][1:]))/x['Units'], reverse=True)\n",
    "print(sort_data_by_cost)"
   ]
  },
  {
   "cell_type": "code",
   "execution_count": 8,
   "metadata": {},
   "outputs": [
    {
     "name": "stdout",
     "output_type": "stream",
     "text": [
      "27.589499999999987\n"
     ]
    }
   ],
   "source": [
    "print(optimize_penalty(sort_data_by_cost, penalty_rates))"
   ]
  },
  {
   "cell_type": "markdown",
   "metadata": {},
   "source": [
    "## Optimize Penalty based on Highest Penalty Cost"
   ]
  },
  {
   "cell_type": "code",
   "execution_count": 13,
   "metadata": {},
   "outputs": [
    {
     "name": "stdout",
     "output_type": "stream",
     "text": [
      "[{'Customer': 'Walmart', 'Order Number': 127, 'Units': 104, 'Amount': '$304.00', 'Date': '1/1'}, {'Customer': 'Walmart', 'Order Number': 169, 'Units': 146, 'Amount': '$246.00', 'Date': '1/2'}, {'Customer': 'Walmart', 'Order Number': 166, 'Units': 143, 'Amount': '$143.00', 'Date': '1/2'}, {'Customer': 'Walmart', 'Order Number': 163, 'Units': 140, 'Amount': '$140.00', 'Date': '1/2'}, {'Customer': 'Walmart', 'Order Number': 160, 'Units': 137, 'Amount': '$137.00', 'Date': '1/2'}, {'Customer': 'Walmart', 'Order Number': 157, 'Units': 134, 'Amount': '$134.00', 'Date': '1/2'}, {'Customer': 'Walmart', 'Order Number': 154, 'Units': 131, 'Amount': '$131.00', 'Date': '1/2'}, {'Customer': 'Walmart', 'Order Number': 151, 'Units': 128, 'Amount': '$128.00', 'Date': '1/2'}, {'Customer': 'Walmart', 'Order Number': 148, 'Units': 125, 'Amount': '$125.00', 'Date': '1/2'}, {'Customer': 'Walmart', 'Order Number': 145, 'Units': 122, 'Amount': '$122.00', 'Date': '1/2'}, {'Customer': 'Walmart', 'Order Number': 142, 'Units': 119, 'Amount': '$119.00', 'Date': '1/1'}, {'Customer': 'Target', 'Order Number': 171, 'Units': 148, 'Amount': '$248.00', 'Date': '1/2'}, {'Customer': 'Walmart', 'Order Number': 139, 'Units': 116, 'Amount': '$116.00', 'Date': '1/1'}, {'Customer': 'Walmart', 'Order Number': 136, 'Units': 113, 'Amount': '$113.00', 'Date': '1/1'}, {'Customer': 'Walmart', 'Order Number': 124, 'Units': 101, 'Amount': '$110.00', 'Date': '1/1'}, {'Customer': 'Walmart', 'Order Number': 133, 'Units': 110, 'Amount': '$110.00', 'Date': '1/1'}, {'Customer': 'Walmart', 'Order Number': 130, 'Units': 107, 'Amount': '$107.00', 'Date': '1/1'}, {'Customer': 'CVS', 'Order Number': 125, 'Units': 102, 'Amount': '$172.00', 'Date': '1/1'}, {'Customer': 'Target', 'Order Number': 129, 'Units': 106, 'Amount': '$156.00', 'Date': '1/1'}, {'Customer': 'CVS', 'Order Number': 170, 'Units': 147, 'Amount': '$147.00', 'Date': '1/2'}, {'Customer': 'Target', 'Order Number': 168, 'Units': 145, 'Amount': '$145.00', 'Date': '1/2'}, {'Customer': 'CVS', 'Order Number': 167, 'Units': 144, 'Amount': '$144.00', 'Date': '1/2'}, {'Customer': 'Target', 'Order Number': 165, 'Units': 142, 'Amount': '$142.00', 'Date': '1/2'}, {'Customer': 'CVS', 'Order Number': 164, 'Units': 141, 'Amount': '$141.00', 'Date': '1/2'}, {'Customer': 'Target', 'Order Number': 162, 'Units': 139, 'Amount': '$139.00', 'Date': '1/2'}, {'Customer': 'CVS', 'Order Number': 161, 'Units': 138, 'Amount': '$138.00', 'Date': '1/2'}, {'Customer': 'Target', 'Order Number': 159, 'Units': 136, 'Amount': '$136.00', 'Date': '1/2'}, {'Customer': 'CVS', 'Order Number': 158, 'Units': 135, 'Amount': '$135.00', 'Date': '1/2'}, {'Customer': 'CVS', 'Order Number': 128, 'Units': 105, 'Amount': '$133.00', 'Date': '1/1'}, {'Customer': 'Target', 'Order Number': 156, 'Units': 133, 'Amount': '$133.00', 'Date': '1/2'}, {'Customer': 'CVS', 'Order Number': 155, 'Units': 132, 'Amount': '$132.00', 'Date': '1/2'}, {'Customer': 'Target', 'Order Number': 123, 'Units': 100, 'Amount': '$130.00', 'Date': '1/1'}, {'Customer': 'Target', 'Order Number': 153, 'Units': 130, 'Amount': '$130.00', 'Date': '1/2'}, {'Customer': 'CVS', 'Order Number': 152, 'Units': 129, 'Amount': '$129.00', 'Date': '1/2'}, {'Customer': 'Target', 'Order Number': 150, 'Units': 127, 'Amount': '$127.00', 'Date': '1/2'}, {'Customer': 'CVS', 'Order Number': 149, 'Units': 126, 'Amount': '$126.00', 'Date': '1/2'}, {'Customer': 'Target', 'Order Number': 147, 'Units': 124, 'Amount': '$124.00', 'Date': '1/2'}, {'Customer': 'CVS', 'Order Number': 146, 'Units': 123, 'Amount': '$123.00', 'Date': '1/2'}, {'Customer': 'Target', 'Order Number': 144, 'Units': 121, 'Amount': '$121.00', 'Date': '1/2'}, {'Customer': 'CVS', 'Order Number': 143, 'Units': 120, 'Amount': '$120.00', 'Date': '1/2'}, {'Customer': 'Target', 'Order Number': 141, 'Units': 118, 'Amount': '$118.00', 'Date': '1/1'}, {'Customer': 'CVS', 'Order Number': 140, 'Units': 117, 'Amount': '$117.00', 'Date': '1/1'}, {'Customer': 'Target', 'Order Number': 138, 'Units': 115, 'Amount': '$115.00', 'Date': '1/1'}, {'Customer': 'CVS', 'Order Number': 137, 'Units': 114, 'Amount': '$114.00', 'Date': '1/1'}, {'Customer': 'Target', 'Order Number': 126, 'Units': 103, 'Amount': '$113.00', 'Date': '1/1'}, {'Customer': 'Target', 'Order Number': 135, 'Units': 112, 'Amount': '$112.00', 'Date': '1/1'}, {'Customer': 'CVS', 'Order Number': 134, 'Units': 111, 'Amount': '$111.00', 'Date': '1/1'}, {'Customer': 'Target', 'Order Number': 132, 'Units': 109, 'Amount': '$109.00', 'Date': '1/1'}, {'Customer': 'CVS', 'Order Number': 131, 'Units': 108, 'Amount': '$108.00', 'Date': '1/1'}]\n",
      "False\n"
     ]
    }
   ],
   "source": [
    "sort_data_by_penalty = [x for _,x in sorted(zip(penalties,data), key=lambda x: x[0], reverse=True)]\n",
    "\n",
    "print(sort_data_by_penalty)\n",
    "print(sort_data_by_cost == sort_data_by_penalty) # my intuition said that these would be similar (or identical), but i guess not!"
   ]
  },
  {
   "cell_type": "code",
   "execution_count": 14,
   "metadata": {},
   "outputs": [
    {
     "name": "stdout",
     "output_type": "stream",
     "text": [
      "21.442000000000004\n"
     ]
    }
   ],
   "source": [
    "print(optimize_penalty(sort_data_by_penalty, penalty_rates))"
   ]
  },
  {
   "cell_type": "markdown",
   "metadata": {},
   "source": [
    "## Optimize based on given Order, lets see how much better these approaches are than just optimizing as we get them."
   ]
  },
  {
   "cell_type": "code",
   "execution_count": 15,
   "metadata": {},
   "outputs": [
    {
     "name": "stdout",
     "output_type": "stream",
     "text": [
      "30.531999999999996\n"
     ]
    }
   ],
   "source": [
    "print(optimize_penalty(data, penalty_rates))"
   ]
  },
  {
   "cell_type": "markdown",
   "metadata": {},
   "source": [
    "It looks like compared to optimizing in the given order, optimizing by penalty reduces the overall penalty by nearly 30%."
   ]
  }
 ],
 "metadata": {
  "kernelspec": {
   "display_name": "Python 3",
   "language": "python",
   "name": "python3"
  },
  "language_info": {
   "codemirror_mode": {
    "name": "ipython",
    "version": 3
   },
   "file_extension": ".py",
   "mimetype": "text/x-python",
   "name": "python",
   "nbconvert_exporter": "python",
   "pygments_lexer": "ipython3",
   "version": "3.9.7"
  }
 },
 "nbformat": 4,
 "nbformat_minor": 2
}
